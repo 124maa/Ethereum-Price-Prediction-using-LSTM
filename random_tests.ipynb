{
 "cells": [
  {
   "cell_type": "code",
   "execution_count": 1,
   "metadata": {},
   "outputs": [],
   "source": [
    "import os\n",
    "import pandas as pd\n",
    "import re"
   ]
  },
  {
   "cell_type": "code",
   "execution_count": 2,
   "metadata": {},
   "outputs": [],
   "source": [
    "os.chdir(\"C:/Users/ikdem/Desktop/test data\")"
   ]
  },
  {
   "cell_type": "code",
   "execution_count": 5,
   "metadata": {},
   "outputs": [],
   "source": [
    "l = []\n",
    "\n",
    "for filename in os.listdir(\"C:/Users/ikdem/Desktop/test data\"):\n",
    "    if filename.endswith(\".csv\"):\n",
    "        if filename != \"ethereum_test_dataset.csv\" or filename != \"export-TxGrowth.csv\":\n",
    "            column_name = re.search(r\"-([^;]*).\", os.path.join(\"C:/Users/ikdem/Desktop/test data\", filename)).group(1).replace(\".cs\", \"\") # ugliest way ever.\n",
    "            df = pd.read_csv(os.path.join(\"C:/Users/ikdem/Desktop/test data\", filename))\n",
    "            df = df.rename(index = str, columns = {\"Value\": column_name})\n",
    "            l.append(df)\n",
    "            continue\n",
    "    else:\n",
    "        continue\n",
    "# dfadd = pd.read_csv(\"export-TxGrowth.csv\")\n",
    "# dfadd = dfadd.rename(index = str, columns = {\"Value\": \"TxGrowth\"})\n",
    "# print(dfadd.tail())\n",
    "# l.append(dfadd)\n",
    "final_df = pd.concat(l, axis = 1)"
   ]
  },
  {
   "cell_type": "code",
   "execution_count": 6,
   "metadata": {},
   "outputs": [
    {
     "name": "stdout",
     "output_type": "stream",
     "text": [
      "1056\n"
     ]
    }
   ],
   "source": [
    "final_df = final_df.T.drop_duplicates().T\n",
    "print(len(final_df))"
   ]
  },
  {
   "cell_type": "code",
   "execution_count": 36,
   "metadata": {},
   "outputs": [],
   "source": [
    "final_df.to_csv(\"ethereum_test_dataset.csv\")"
   ]
  },
  {
   "cell_type": "code",
   "execution_count": 12,
   "metadata": {},
   "outputs": [
    {
     "name": "stdout",
     "output_type": "stream",
     "text": [
      "Date(UTC)              4/27/2018\n",
      "UnixTimeStamp        1.52479e+09\n",
      "AddressCount         3.21922e+07\n",
      "AvgGasPrice          1.46854e+10\n",
      "BlockCountRewards           5714\n",
      "BlockDifficulty          3152.28\n",
      "BlockSize                  24120\n",
      "BlockTime                  14.79\n",
      "Date(UTC)              4/27/2018\n",
      "UnixTimeStamp         1524787200\n",
      "EtherPrice (1)            643.33\n",
      "GasLimit             7.99669e+06\n",
      "GasUsed              3.82119e+10\n",
      "NetworkHash               257911\n",
      "TxGrowth                  764479\n",
      "Uncles                      1355\n",
      "Name: 999, dtype: object\n"
     ]
    }
   ],
   "source": [
    "print(final_df.iloc[1055])"
   ]
  },
  {
   "cell_type": "code",
   "execution_count": 86,
   "metadata": {},
   "outputs": [],
   "source": [
    "df = pd.read_csv(\"export-TxGrowth.csv\")\n",
    "df = df.sort_values(by=[\"UnixTimeStamp\"])\n",
    "df = df.drop(df.index[[1055]])"
   ]
  },
  {
   "cell_type": "code",
   "execution_count": null,
   "metadata": {},
   "outputs": [],
   "source": []
  },
  {
   "cell_type": "code",
   "execution_count": 87,
   "metadata": {},
   "outputs": [
    {
     "name": "stdout",
     "output_type": "stream",
     "text": [
      "      Date(UTC)  UnixTimeStamp   Value\n",
      "1050  6/17/2018     1529193600  648548\n",
      "1051  6/18/2018     1529280000  695753\n",
      "1052  6/19/2018     1529366400  778765\n",
      "1053  6/20/2018     1529452800  803076\n",
      "1054  6/21/2018     1529539200  752035\n"
     ]
    }
   ],
   "source": [
    "print(df.tail())"
   ]
  },
  {
   "cell_type": "code",
   "execution_count": 72,
   "metadata": {},
   "outputs": [
    {
     "name": "stdout",
     "output_type": "stream",
     "text": [
      "18\n",
      "84\n",
      "126\n",
      "198\n",
      "303\n",
      "330\n",
      "377\n",
      "427\n",
      "474\n"
     ]
    }
   ],
   "source": [
    "for i in range(len(df[\"UnixTimeStamp\"])):\n",
    "    if i == 0:\n",
    "        continue\n",
    "    if (df[\"UnixTimeStamp\"][i] - df[\"UnixTimeStamp\"][i-1]) < 0:\n",
    "        print(i)"
   ]
  },
  {
   "cell_type": "code",
   "execution_count": 88,
   "metadata": {},
   "outputs": [],
   "source": [
    "list_vals = df[\"Value\"].tolist()"
   ]
  },
  {
   "cell_type": "code",
   "execution_count": 89,
   "metadata": {},
   "outputs": [],
   "source": [
    "final_df[\"TxGrowth\"] = list_vals"
   ]
  },
  {
   "cell_type": "code",
   "execution_count": 90,
   "metadata": {},
   "outputs": [
    {
     "name": "stdout",
     "output_type": "stream",
     "text": [
      "1055\n"
     ]
    },
    {
     "data": {
      "text/plain": [
       "1055"
      ]
     },
     "execution_count": 90,
     "metadata": {},
     "output_type": "execute_result"
    }
   ],
   "source": [
    "print(len(list_vals))\n",
    "len(final_df)"
   ]
  },
  {
   "cell_type": "code",
   "execution_count": 91,
   "metadata": {},
   "outputs": [],
   "source": [
    "final_df.to_csv(\"ethereum_test_dataset.csv\")"
   ]
  }
 ],
 "metadata": {
  "kernelspec": {
   "display_name": "Python 3",
   "language": "python",
   "name": "python3"
  },
  "language_info": {
   "codemirror_mode": {
    "name": "ipython",
    "version": 3
   },
   "file_extension": ".py",
   "mimetype": "text/x-python",
   "name": "python",
   "nbconvert_exporter": "python",
   "pygments_lexer": "ipython3",
   "version": "3.5.0"
  }
 },
 "nbformat": 4,
 "nbformat_minor": 2
}
