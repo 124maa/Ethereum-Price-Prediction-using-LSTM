{
 "cells": [
  {
   "cell_type": "code",
   "execution_count": 1,
   "metadata": {},
   "outputs": [
    {
     "name": "stderr",
     "output_type": "stream",
     "text": [
      "Using TensorFlow backend.\n"
     ]
    }
   ],
   "source": [
    "# IMPORTING IMPORTANT LIBRARIES\n",
    "import pandas as pd\n",
    "import matplotlib.pyplot as plt\n",
    "import numpy as np\n",
    "from numpy import concatenate as conc\n",
    "import math\n",
    "from sklearn.preprocessing import MinMaxScaler, StandardScaler\n",
    "from sklearn.metrics import mean_squared_error, mean_absolute_error, classification_report, precision_recall_fscore_support\n",
    "from keras.optimizers import SGD, RMSprop, Adagrad, Adadelta, Adam, Nadam\n",
    "from keras.models import Sequential\n",
    "from keras.layers import Dense, Activation, Dropout, LSTM, Bidirectional\n",
    "from keras.utils import plot_model\n",
    "from keras import backend as K\n",
    "import os\n",
    "import time\n",
    "from datetime import timedelta\n",
    "os.environ[\"PATH\"] += os.pathsep + 'C:/Program Files (x86)/Graphviz2.38/bin/'\n"
   ]
  },
  {
   "cell_type": "code",
   "execution_count": 2,
   "metadata": {},
   "outputs": [],
   "source": [
    "# model 1\n",
    "model = Sequential()\n",
    "\n",
    "model.add((LSTM(256, input_shape=(1, 11), return_sequences = True)))\n",
    "\n",
    "model.add(Dense(1))\n",
    "\n",
    "model.add(Activation('linear'))\n",
    "\n",
    "plot_model(model, to_file='model1_plot.png', show_shapes=True, show_layer_names=True)"
   ]
  },
  {
   "cell_type": "code",
   "execution_count": null,
   "metadata": {},
   "outputs": [],
   "source": [
    "# model 2\n",
    "model = Sequential()\n",
    "\n",
    "model.add((LSTM(64, input_shape=(1, 11), return_sequences = True))) \n",
    "model.add((LSTM(64, input_shape=(1, 11))))\n",
    "\n",
    "model.add(Dense(1))\n",
    "model.add(Activation('linear'))\n",
    "\n",
    "plot_model(model, to_file='model2_plot.png', show_shapes=True, show_layer_names=True)"
   ]
  },
  {
   "cell_type": "code",
   "execution_count": null,
   "metadata": {},
   "outputs": [],
   "source": [
    "# model 3\n",
    "model = Sequential()\n",
    "\n",
    "model.add((LSTM(64, input_shape=(1, 11), return_sequences = True))) \n",
    "\n",
    "model.add((LSTM(128, input_shape=(1, 11), return_sequences = True)))\n",
    "\n",
    "model.add((LSTM(128, input_shape=(1, 11))))\n",
    "\n",
    "model.add(Dense(64))\n",
    "\n",
    "model.add(Dense(32))\n",
    "model.add(Dense(1))\n",
    "\n",
    "model.add(Activation('linear'))\n",
    "\n",
    "plot_model(model, to_file='model3_plot.png', show_shapes=True, show_layer_names=True)"
   ]
  }
 ],
 "metadata": {
  "kernelspec": {
   "display_name": "Python 3",
   "language": "python",
   "name": "python3"
  },
  "language_info": {
   "codemirror_mode": {
    "name": "ipython",
    "version": 3
   },
   "file_extension": ".py",
   "mimetype": "text/x-python",
   "name": "python",
   "nbconvert_exporter": "python",
   "pygments_lexer": "ipython3",
   "version": "3.5.0"
  }
 },
 "nbformat": 4,
 "nbformat_minor": 2
}
