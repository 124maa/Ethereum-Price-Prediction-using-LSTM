{
 "cells": [
  {
   "cell_type": "code",
   "execution_count": null,
   "metadata": {},
   "outputs": [],
   "source": [
    "# REPRODUCIBILATY\n",
    "from numpy.random import seed\n",
    "seed(12)\n",
    "from tensorflow import set_random_seed\n",
    "set_random_seed(12)\n",
    "\n",
    "# IMPORTING IMPORTANT LIBRARIES\n",
    "import pandas as pd\n",
    "import matplotlib.pyplot as plt\n",
    "import numpy as np\n",
    "from numpy import concatenate as conc\n",
    "import math\n",
    "from sklearn.preprocessing import MinMaxScaler, StandardScaler\n",
    "from sklearn.metrics import mean_squared_error, mean_absolute_error, classification_report, precision_recall_fscore_support\n",
    "from keras.optimizers import SGD, RMSprop, Adagrad, Adadelta, Adam, Nadam\n",
    "from keras.models import Sequential\n",
    "from keras.layers import Dense, Activation, Dropout, LSTM, Bidirectional\n",
    "from keras.utils import plot_model\n",
    "from keras import backend as K\n",
    "import os\n",
    "import time\n",
    "from datetime import timedelta\n",
    "os.environ[\"PATH\"] += os.pathsep + 'C:/Program Files (x86)/Graphviz2.38/bin/'\n"
   ]
  },
  {
   "cell_type": "code",
   "execution_count": null,
   "metadata": {},
   "outputs": [],
   "source": [
    "def percentage_change(inp):\n",
    "    arr =  ((np.diff(inp) / inp[:-1]))\n",
    "    return arr\n",
    "\n",
    "def binary(inp):\n",
    "    l = []\n",
    "    for i in range(len(inp)):\n",
    "        if i == 0:\n",
    "            continue\n",
    "        else:\n",
    "            if (inp[i] - inp[i-1]) > 0:\n",
    "                l.append(1)\n",
    "            else:\n",
    "                l.append(0)\n",
    "    return np.array(l)\n",
    "\n",
    "def strategy_profit(yhat, yt, plot = False):\n",
    "    signal = np.array([1 if p == 1 else -1 for p in binary(yhat)]) # Creates a trading signal to buy if price rises, sell if price drops\n",
    "    signal = np.hstack((0,signal))\n",
    "    \n",
    "    df = pd.DataFrame() # Create dataframe for easier computation\n",
    "    \n",
    "    returns = yt.reshape((yt.shape[0], )) # create returns series from original data \n",
    "    returns[0] = 0\n",
    "    \n",
    "    df[\"return_strat\"] = (returns * signal) # daily returns strategy\n",
    "    np_return_strat = df[\"return_strat\"].values # numpy array of daily returns\n",
    "    \n",
    "    df[\"cumulative_return_strat\"] = ((1 + df['return_strat']).cumprod() - 1) * 100 # cumulative return of strategy when reinvesting entire portfolio value\n",
    "    df[\"return\"] = returns \n",
    "    df[\"cumulative_return\"] = (df[\"return\"].cumsum())*100 # Returns of the buy and hold strategy (buy at t=0 and hold untill t=end)\n",
    "    df[\"signal\"] = signal\n",
    "\n",
    "    xs = df[\"cumulative_return_strat\"].values.astype(\"float32\")\n",
    "    \n",
    "    np.save(\"model2.npy\", xs)\n",
    "    \n",
    "    i = np.argmax(np.maximum.accumulate(xs) - xs) # end of the period\n",
    "    j = np.argmax(xs[:i]) # start of period\n",
    "\n",
    "    if plot:\n",
    "        plt.plot(df[\"cumulative_return\"], \"r\", label = \"Buy and hold\")\n",
    "        plt.plot(df[\"cumulative_return_strat\"], \"g\", label = \"Strategy\")\n",
    "        plt.plot()\n",
    "        plt.legend()\n",
    "        plt.show()\n",
    "    return float(df.iloc[-1:][\"cumulative_return_strat\"] - df.iloc[-1:][\"cumulative_return\"]), \\\n",
    "            (math.sqrt(365.25) * np.mean(np_return_strat) / np.std(np_return_strat)), \\\n",
    "              (j-i)"
   ]
  },
  {
   "cell_type": "code",
   "execution_count": null,
   "metadata": {},
   "outputs": [],
   "source": [
    "# 920 - 1009\n",
    "# prediction period vdataset[\"EtherPrice\"].iloc[-1023:-934]"
   ]
  },
  {
   "cell_type": "code",
   "execution_count": null,
   "metadata": {},
   "outputs": [],
   "source": [
    "# IMPORTING DATASET\n",
    "dataset = pd.read_csv('ethereum_trainval_dataset.csv')\n",
    "dataset = dataset.sort_values(by=[\"UnixTimeStamp\"])\n",
    "dataset = dataset.reindex(index = dataset.index[::-1])\n",
    "tdataset = pd.read_csv('ethereum_test_dataset.csv')\n",
    "tdataset = tdataset.sort_values(by=[\"UnixTimeStamp\"])\n",
    "tdataset = tdataset.reindex(index = tdataset.index[::-1])"
   ]
  },
  {
   "cell_type": "code",
   "execution_count": null,
   "metadata": {},
   "outputs": [],
   "source": [
    "# deleting unwanted columns\n",
    "del dataset[\"eth_supply\"]\n",
    "del dataset[\"eth_ethersupply\"]\n",
    "del dataset[\"eth_marketcap\"]\n",
    "del dataset[\"Unnamed: 0\"]\n",
    "del dataset[\"UnixTimeStamp\"]\n",
    "del dataset[\"eth_ens_register\"]\n",
    "del tdataset[\"Date(UTC)\"]\n",
    "del tdataset[\"UnixTimeStamp\"]\n",
    "del tdataset[\"Unnamed: 0\"]"
   ]
  },
  {
   "cell_type": "code",
   "execution_count": null,
   "metadata": {},
   "outputs": [],
   "source": [
    "# Make price column the last one for easier use later on\n",
    "cols = list(dataset)\n",
    "cols[0], cols[11] = cols[11], cols[0]\n",
    "dataset = dataset.ix[:,cols]\n",
    "dataset = dataset[::-1]\n",
    "tdataset = tdataset[::-1]"
   ]
  },
  {
   "cell_type": "code",
   "execution_count": null,
   "metadata": {},
   "outputs": [],
   "source": [
    "# Accounting for blocktime being halved at index 809\n",
    "dataset[\"eth_blocktime\"].loc[809:] = dataset[809:][\"eth_blocktime\"] * 2\n",
    "dataset[\"eth_uncles\"].loc[809:] = dataset[809:][\"eth_uncles\"] / 2\n",
    "dataset[\"eth_blocks\"].loc[809:] = dataset[809:][\"eth_blocks\"] / 2\n",
    "dataset[\"eth_difficulty\"].loc[809:] = dataset[809:][\"eth_difficulty\"] * 2\n",
    "\n",
    "dataset[\"eth_gasprice\"][497] = dataset[\"eth_gasprice\"][497] / 41\n",
    "\n"
   ]
  },
  {
   "cell_type": "code",
   "execution_count": null,
   "metadata": {},
   "outputs": [],
   "source": [
    "tdataset = tdataset[[\"GasUsed\", \"TxGrowth\", \"AddressCount\", \"NetworkHash\", \"BlockDifficulty\", \"BlockCountRewards\", \\\n",
    "                     \"Uncles\", \"BlockSize\", \"BlockTime\", \"AvgGasPrice\", \"GasLimit\", \"EtherPrice\"]]"
   ]
  },
  {
   "cell_type": "code",
   "execution_count": null,
   "metadata": {},
   "outputs": [],
   "source": [
    "dataset = dataset[13:]\n",
    "tdataset = tdataset[13:]"
   ]
  },
  {
   "cell_type": "code",
   "execution_count": null,
   "metadata": {},
   "outputs": [],
   "source": [
    "# Convert to numpy array and normalize data.\n",
    "dataset = dataset.values.astype(\"float32\")\n",
    "tdataset = tdataset.values.astype(\"float32\")"
   ]
  },
  {
   "cell_type": "code",
   "execution_count": null,
   "metadata": {},
   "outputs": [],
   "source": [
    "dataset_y = percentage_change(dataset[:, -1])\n",
    "tdataset_y = percentage_change(tdataset[:, -1])\n",
    "\n",
    "scaler_z = StandardScaler()\n",
    "\n",
    "dataset_X = scaler_z.fit_transform(dataset[:, :-1])\n",
    "tdataset_X = scaler_z.transform(tdataset[:, :-1])\n",
    "\n",
    "tdataset_X = tdataset_X[0:-1,: ]\n",
    "dataset_X = dataset_X[0:-1,: ]\n",
    "\n",
    "tdataset_X = tdataset_X[921:1011]\n",
    "yt = tdataset_y[921:1011]\n",
    "\n",
    "print(tdataset_X.shape)\n",
    "print(yt.shape)"
   ]
  },
  {
   "cell_type": "code",
   "execution_count": null,
   "metadata": {},
   "outputs": [],
   "source": [
    "## Train/test split\n",
    "split = int(len(dataset)*0.9)\n",
    "\n",
    "train_X = dataset_X[:split, :]\n",
    "val_X = dataset_X[split:, :]\n",
    "\n",
    "train_y = dataset_y[:split]\n",
    "test_y = dataset_y[split:]\n",
    "\n",
    "yv = test_y\n",
    "\n",
    "# Reshape for LSTM\n",
    "train_X = train_X.reshape((train_X.shape[0], 1, train_X.shape[1]))\n",
    "val_X = val_X.reshape((val_X.shape[0], 1, val_X.shape[1]))\n",
    "test_X = tdataset_X.reshape((tdataset_X.shape[0], 1, tdataset_X.shape[1]))\n",
    "\n",
    "\n",
    "\n",
    "print(train_X.shape)\n",
    "print(train_y.shape)\n",
    "print(val_X.shape)\n",
    "print(test_y.shape)"
   ]
  },
  {
   "cell_type": "code",
   "execution_count": null,
   "metadata": {},
   "outputs": [],
   "source": [
    "rms = RMSprop(lr = 0.0005)\n",
    "\n",
    "model = Sequential()\n",
    "\n",
    "model.add((LSTM(128, input_shape=(1, 11), return_sequences = True))) \n",
    "model.add(Activation(\"relu\"))\n",
    "\n",
    "model.add((LSTM(128, input_shape=(1, 11), return_sequences = True)))\n",
    "model.add(Activation(\"relu\"))\n",
    "\n",
    "model.add((LSTM(128, input_shape=(1, 11))))\n",
    "model.add(Activation(\"relu\"))\n",
    "\n",
    "model.add(Dense(8))\n",
    "model.add(Activation(\"relu\"))\n",
    "\n",
    "model.add(Dense(4))\n",
    "model.add(Dense(1))\n",
    "\n",
    "model.add(Activation('linear'))\n",
    "model.add(Activation('linear'))\n",
    "\n",
    "# Compile and Run\n",
    "model.compile(loss = \"mean_squared_error\", optimizer = rms) # Try SGD, adam, adagrad and compare!!!\n",
    "model.fit(train_X, train_y, epochs = 1000, batch_size = 64, verbose=2)"
   ]
  },
  {
   "cell_type": "code",
   "execution_count": null,
   "metadata": {},
   "outputs": [],
   "source": [
    "yhat = model.predict(test_X)"
   ]
  },
  {
   "cell_type": "code",
   "execution_count": null,
   "metadata": {},
   "outputs": [],
   "source": [
    "print(len(yhat))\n",
    "print(len(yv))"
   ]
  },
  {
   "cell_type": "code",
   "execution_count": null,
   "metadata": {},
   "outputs": [],
   "source": [
    "plt.plot(yhat, \"g\", label = \"predicted\")\n",
    "plt.plot(yt, \"r\", label = \"real\")\n",
    "plt.title(\"Model 1\") \n",
    "plt.legend()\n",
    "plt.savefig(\"test.png\")\n",
    "plt.show()"
   ]
  },
  {
   "cell_type": "code",
   "execution_count": null,
   "metadata": {},
   "outputs": [],
   "source": [
    "def error_performance(yhat, yt, plot = False):\n",
    "    rmse_normalized = math.sqrt(mean_squared_error(yhat, yt))\n",
    "    mae_normalized = mean_absolute_error(yhat, yt)\n",
    "    excess_r, sharpe, drawdown = strategy_profit(yhat, yt, plot)\n",
    "\n",
    "    error_performance = [\"rmse: \" + str(rmse_normalized), \"mae: \" + str(mae_normalized),\n",
    "                             precision_recall_fscore_support(binary(yhat), binary(yt), average = 'weighted'),\n",
    "                               \"strategy profit in %: \" + str(excess_r), \"Sharpe ratio: \" + str(sharpe),\n",
    "                                 \"Drawdown in %: \" + str(drawdown)]\n",
    "    return error_performance\n",
    "\n",
    "print(error_performance(yhat, yt, plot = True)[0:5])"
   ]
  },
  {
   "cell_type": "code",
   "execution_count": null,
   "metadata": {},
   "outputs": [],
   "source": []
  },
  {
   "cell_type": "code",
   "execution_count": null,
   "metadata": {},
   "outputs": [],
   "source": []
  },
  {
   "cell_type": "code",
   "execution_count": null,
   "metadata": {},
   "outputs": [],
   "source": []
  }
 ],
 "metadata": {
  "kernelspec": {
   "display_name": "Python 3",
   "language": "python",
   "name": "python3"
  },
  "language_info": {
   "codemirror_mode": {
    "name": "ipython",
    "version": 3
   },
   "file_extension": ".py",
   "mimetype": "text/x-python",
   "name": "python",
   "nbconvert_exporter": "python",
   "pygments_lexer": "ipython3",
   "version": "3.5.0"
  }
 },
 "nbformat": 4,
 "nbformat_minor": 2
}
